{
 "cells": [
  {
   "cell_type": "code",
   "execution_count": 1,
   "metadata": {},
   "outputs": [],
   "source": [
    "import re"
   ]
  },
  {
   "cell_type": "code",
   "execution_count": 2,
   "metadata": {},
   "outputs": [],
   "source": [
    "list_of_urls= []\n",
    "with open(\"../data/wiki/1k_dbqueries.txt\",\"r\") as input_file:\n",
    "    for element in input_file:\n",
    "        element = re.search(\"\\\"(.*?)\\\"\", element.strip(\"\\n\"))\n",
    "        element = element.group()[1:-1]\n",
    "        list_of_urls.append(element)\n"
   ]
  },
  {
   "cell_type": "code",
   "execution_count": 3,
   "metadata": {},
   "outputs": [
    {
     "data": {
      "text/plain": [
       "'List%20of%20cemeteries%20in%20Karachi'"
      ]
     },
     "execution_count": 3,
     "metadata": {},
     "output_type": "execute_result"
    }
   ],
   "source": [
    "list_of_urls[0]"
   ]
  },
  {
   "cell_type": "code",
   "execution_count": 4,
   "metadata": {},
   "outputs": [
    {
     "name": "stdout",
     "output_type": "stream",
     "text": [
      "total 1024420\r\n",
      "-rw-rw-r--. 1 gaurisht group3 977019180 Apr 22 08:50 'instance-types_lang=en_specific.ttl'\r\n",
      "-rw-rw-r--. 1 gaurisht group3      3168 May 27 14:12  extract_dbpedia_candidate_class.py\r\n",
      "-rw-rw-r--. 1 gaurisht group3      2801 May 27 21:15  get_dbpedia_response.py\r\n",
      "-rw-rw-r--. 1 gaurisht group3         0 May 27 21:15  error.txt\r\n",
      "-rw-rw-r--. 1 gaurisht group3  70240538 May 27 21:18  info_dbpedia.txt\r\n",
      "-rw-rw-r--. 1 gaurisht group3     47817 May 27 21:18  completed.txt\r\n",
      "-rw-rw-r--. 1 gaurisht group3   1435782 May 27 21:20  candidate_classes.txt\r\n",
      "-rw-rw-r--. 1 gaurisht group3     76032 May 27 21:20  blank_classes.txt\r\n",
      "-rw-rw-r--. 1 gabriela group3       781 May 27 22:41  wikidata_id.py\r\n",
      "-rw-rw-r--. 1 gaurisht group3    153782 May 27 22:42  wikioutput_1k.txt\r\n",
      "-rw-rw-r--. 1 gaurisht group3      4960 May 27 23:00  Combine-Dbpedia-Wikipedia.ipynb\r\n"
     ]
    }
   ],
   "source": [
    "!ls -tlr\n"
   ]
  },
  {
   "cell_type": "code",
   "execution_count": 5,
   "metadata": {},
   "outputs": [
    {
     "name": "stdout",
     "output_type": "stream",
     "text": [
      "<http://dbpedia.org/resource/!!!> <http://www.w3.org/1999/02/22-rdf-syntax-ns#type> <http://dbpedia.org/ontology/Band> .\r\n",
      "<http://dbpedia.org/resource/!!!_(album)> <http://www.w3.org/1999/02/22-rdf-syntax-ns#type> <http://dbpedia.org/ontology/Album> .\r\n",
      "<http://dbpedia.org/resource/!Action_Pact!> <http://www.w3.org/1999/02/22-rdf-syntax-ns#type> <http://dbpedia.org/ontology/Band> .\r\n",
      "<http://dbpedia.org/resource/!Arriba!_La_Pachanga> <http://www.w3.org/1999/02/22-rdf-syntax-ns#type> <http://dbpedia.org/ontology/Album> .\r\n",
      "<http://dbpedia.org/resource/!Hero> <http://www.w3.org/1999/02/22-rdf-syntax-ns#type> <http://dbpedia.org/ontology/Musical> .\r\n",
      "<http://dbpedia.org/resource/!Hero_(album)> <http://www.w3.org/1999/02/22-rdf-syntax-ns#type> <http://dbpedia.org/ontology/Album> .\r\n",
      "<http://dbpedia.org/resource/!Kung_languages> <http://www.w3.org/1999/02/22-rdf-syntax-ns#type> <http://dbpedia.org/ontology/Language> .\r\n",
      "<http://dbpedia.org/resource/!Oka_Tokat> <http://www.w3.org/1999/02/22-rdf-syntax-ns#type> <http://dbpedia.org/ontology/TelevisionShow> .\r\n",
      "<http://dbpedia.org/resource/!PAUS3> <http://www.w3.org/1999/02/22-rdf-syntax-ns#type> <http://dbpedia.org/ontology/MusicalArtist> .\r\n",
      "<http://dbpedia.org/resource/!T.O.O.H.!> <http://www.w3.org/1999/02/22-rdf-syntax-ns#type> <http://dbpedia.org/ontology/Band> .\r\n"
     ]
    }
   ],
   "source": [
    "!head instance-types_lang\\=en_specific.ttl"
   ]
  },
  {
   "cell_type": "code",
   "execution_count": 10,
   "metadata": {},
   "outputs": [],
   "source": [
    "entities_dict={}\n",
    "with open(\"instance-types_lang=en_specific.ttl\") as input_file:\n",
    "    for element in input_file:\n",
    "        elements = element.strip().split(\" \")\n",
    "#         print(elements)\n",
    "        el_1 = elements[0].replace(\"http://dbpedia.org/resource/\",\"\")[1:-1]\n",
    "        el_2 = elements[2].replace(\"http://dbpedia.org/ontology/\",\"\")[1:-1]\n",
    "        entities_dict[el_1] = el_2\n",
    "        "
   ]
  },
  {
   "cell_type": "code",
   "execution_count": null,
   "metadata": {},
   "outputs": [],
   "source": [
    "# len(entities_dict)"
   ]
  },
  {
   "cell_type": "code",
   "execution_count": 19,
   "metadata": {},
   "outputs": [
    {
     "data": {
      "text/plain": [
       "'http://www.w3.org/2002/07/owl#Thing'"
      ]
     },
     "execution_count": 19,
     "metadata": {},
     "output_type": "execute_result"
    }
   ],
   "source": [
    "entities_dict[\"Foreclosure\"]"
   ]
  },
  {
   "cell_type": "code",
   "execution_count": 16,
   "metadata": {},
   "outputs": [
    {
     "name": "stdout",
     "output_type": "stream",
     "text": [
      "{'pages': {'13772490': {'pageid': 13772490, 'ns': 0, 'title': 'List of cemeteries in Karachi', 'pageprops': {'wikibase_item': 'Q6609177'}}}} \r\n",
      "\r\n",
      "{'pages': {'107530': {'pageid': 107530, 'ns': 0, 'title': 'Edwards Air Force Base', 'pageprops': {'wikibase_item': 'Q217563'}}}} \r\n",
      "\r\n",
      "{'normalized': [{'from': 'foreclosure', 'to': 'Foreclosure'}], 'pages': {'595535': {'pageid': 595535, 'ns': 0, 'title': 'Foreclosure', 'pageprops': {'wikibase_item': 'Q231710'}}}} \r\n",
      "\r\n",
      "{'normalized': [{'from': 'fireworks', 'to': 'Fireworks'}], 'pages': {'59493': {'pageid': 59493, 'ns': 0, 'title': 'Fireworks', 'pageprops': {'wikibase_item': 'Q127933'}}}} \r\n",
      "\r\n",
      "{'pages': {'10162009': {'pageid': 10162009, 'ns': 0, 'title': 'Mauro Picone', 'pageprops': {'wikibase_item': 'Q1862580'}}}} \r\n",
      "\r\n"
     ]
    }
   ],
   "source": [
    "!head wikioutput_1k.txt"
   ]
  },
  {
   "cell_type": "code",
   "execution_count": 20,
   "metadata": {},
   "outputs": [
    {
     "name": "stdout",
     "output_type": "stream",
     "text": [
      "--2020-05-27 23:06:59--  http://downloads.dbpedia.org/repo/dbpedia/mappings/instance-types/2020.04.01/instance-types_lang%3den_transitive.ttl.bz2\n",
      "Resolving downloads.dbpedia.org (downloads.dbpedia.org)... 139.18.16.66\n",
      "Connecting to downloads.dbpedia.org (downloads.dbpedia.org)|139.18.16.66|:80... connected.\n",
      "HTTP request sent, awaiting response... 200 OK\n",
      "Length: 127018261 (121M) [application/octet-stream]\n",
      "Saving to: ‘instance-types_lang=en_transitive.ttl.bz2’\n",
      "\n",
      "instance-types_lang 100%[===================>] 121.13M  18.1MB/s    in 13s     \n",
      "\n",
      "2020-05-27 23:07:12 (9.25 MB/s) - ‘instance-types_lang=en_transitive.ttl.bz2’ saved [127018261/127018261]\n",
      "\n"
     ]
    }
   ],
   "source": [
    "!wget http://downloads.dbpedia.org/repo/dbpedia/mappings/instance-types/2020.04.01/instance-types_lang%3den_transitive.ttl.bz2"
   ]
  },
  {
   "cell_type": "code",
   "execution_count": 22,
   "metadata": {},
   "outputs": [],
   "source": [
    "!bzip2 -d instance-types_lang\\=en_transitive.ttl.bz2"
   ]
  },
  {
   "cell_type": "code",
   "execution_count": 25,
   "metadata": {},
   "outputs": [
    {
     "name": "stdout",
     "output_type": "stream",
     "text": [
      "<http://dbpedia.org/resource/!!!> <http://www.w3.org/1999/02/22-rdf-syntax-ns#type> <http://dbpedia.org/ontology/Agent> .\r\n",
      "<http://dbpedia.org/resource/!!!> <http://www.w3.org/1999/02/22-rdf-syntax-ns#type> <http://dbpedia.org/ontology/Group> .\r\n",
      "<http://dbpedia.org/resource/!!!> <http://www.w3.org/1999/02/22-rdf-syntax-ns#type> <http://dbpedia.org/ontology/Organisation> .\r\n",
      "<http://dbpedia.org/resource/!!!> <http://www.w3.org/1999/02/22-rdf-syntax-ns#type> <http://schema.org/MusicGroup> .\r\n",
      "<http://dbpedia.org/resource/!!!> <http://www.w3.org/1999/02/22-rdf-syntax-ns#type> <http://schema.org/Organization> .\r\n",
      "<http://dbpedia.org/resource/!!!> <http://www.w3.org/1999/02/22-rdf-syntax-ns#type> <http://www.ontologydesignpatterns.org/ont/dul/DUL.owl#Agent> .\r\n",
      "<http://dbpedia.org/resource/!!!> <http://www.w3.org/1999/02/22-rdf-syntax-ns#type> <http://www.ontologydesignpatterns.org/ont/dul/DUL.owl#SocialPerson> .\r\n",
      "<http://dbpedia.org/resource/!!!> <http://www.w3.org/1999/02/22-rdf-syntax-ns#type> <http://www.w3.org/2002/07/owl#Thing> .\r\n",
      "<http://dbpedia.org/resource/!!!> <http://www.w3.org/1999/02/22-rdf-syntax-ns#type> <http://www.wikidata.org/entity/Q215380> .\r\n",
      "<http://dbpedia.org/resource/!!!> <http://www.w3.org/1999/02/22-rdf-syntax-ns#type> <http://www.wikidata.org/entity/Q24229398> .\r\n"
     ]
    }
   ],
   "source": [
    "!head instance-types_lang\\=en_transitive.ttl\n"
   ]
  },
  {
   "cell_type": "code",
   "execution_count": 26,
   "metadata": {},
   "outputs": [],
   "source": [
    "from collections import defaultdict\n"
   ]
  },
  {
   "cell_type": "code",
   "execution_count": 29,
   "metadata": {},
   "outputs": [],
   "source": [
    "entities_dict=defaultdict(list)\n",
    "with open(\"instance-types_lang=en_transitive.ttl\") as input_file:\n",
    "    for element in input_file:\n",
    "        elements = element.strip().split(\" \")\n",
    "#         print(elements)\n",
    "        el_1 = elements[0].replace(\"http://dbpedia.org/resource/\",\"\")[1:-1]\n",
    "        el_2 = elements[2].replace(\"http://dbpedia.org/ontology/\",\"\")[1:-1]\n",
    "        entities_dict[el_1].append(el_2)\n",
    "        "
   ]
  },
  {
   "cell_type": "code",
   "execution_count": 33,
   "metadata": {},
   "outputs": [
    {
     "data": {
      "text/plain": [
       "[]"
      ]
     },
     "execution_count": 33,
     "metadata": {},
     "output_type": "execute_result"
    }
   ],
   "source": [
    "entities_dict[\"Foreclosure\"]"
   ]
  },
  {
   "cell_type": "code",
   "execution_count": 38,
   "metadata": {},
   "outputs": [
    {
     "name": "stdout",
     "output_type": "stream",
     "text": [
      "Traceback (most recent call last):\r\n",
      "  File \"wikidata_id.py\", line 13, in <module>\r\n",
      "    if len(list_of_urls==10000):\r\n",
      "TypeError: object of type 'bool' has no len()\r\n"
     ]
    }
   ],
   "source": [
    "!python wikidata_id.py > wikioutput.txt"
   ]
  },
  {
   "cell_type": "code",
   "execution_count": null,
   "metadata": {},
   "outputs": [],
   "source": [
    "# wiki-titles=> canonical form (forms a dict)\n",
    "# try to check if the item exists locally \n",
    "#    if exists pick it up \n",
    "#    if not fire up dbpedia query with latest canonical form\n",
    "# canonical form=> dbpedia"
   ]
  },
  {
   "cell_type": "code",
   "execution_count": 40,
   "metadata": {},
   "outputs": [
    {
     "name": "stdout",
     "output_type": "stream",
     "text": [
      "URL transformed to HTTPS due to an HSTS policy\n",
      "--2020-05-28 00:13:11--  https://dumps.wikimedia.org/enwiki/latest/enwiki-latest-all-titles-in-ns0.gz\n",
      "Resolving dumps.wikimedia.org (dumps.wikimedia.org)... 2620:0:861:1:208:80:154:7, 208.80.154.7\n",
      "Connecting to dumps.wikimedia.org (dumps.wikimedia.org)|2620:0:861:1:208:80:154:7|:443... connected.\n",
      "HTTP request sent, awaiting response... 200 OK\n",
      "Length: 86098876 (82M) [application/octet-stream]\n",
      "Saving to: ‘enwiki-latest-all-titles-in-ns0.gz’\n",
      "\n",
      "enwiki-latest-all-t 100%[===================>]  82.11M   692KB/s    in 57s     \n",
      "\n",
      "2020-05-28 00:14:09 (1.43 MB/s) - ‘enwiki-latest-all-titles-in-ns0.gz’ saved [86098876/86098876]\n",
      "\n"
     ]
    }
   ],
   "source": [
    "!wget http://dumps.wikimedia.org/enwiki/latest/enwiki-latest-all-titles-in-ns0.gz"
   ]
  },
  {
   "cell_type": "code",
   "execution_count": 43,
   "metadata": {},
   "outputs": [],
   "source": [
    "!gzip -d enwiki-latest-all-titles-in-ns0.gz\n"
   ]
  },
  {
   "cell_type": "code",
   "execution_count": 45,
   "metadata": {},
   "outputs": [
    {
     "name": "stdout",
     "output_type": "stream",
     "text": [
      "page_title\r\n",
      "!\r\n",
      "!!\r\n",
      "!!!\r\n",
      "!!!!!!!\r\n",
      "!!!Fuck_You!!!\r\n",
      "!!!Fuck_You!!!_And_Then_Some\r\n",
      "!!!Fuck_You!!!_and_Then_Some\r\n",
      "!!!_(!!!_album)\r\n",
      "!!!_(American_band)\r\n"
     ]
    }
   ],
   "source": [
    "!head enwiki-latest-all-titles-in-ns0 \n"
   ]
  },
  {
   "cell_type": "code",
   "execution_count": 46,
   "metadata": {},
   "outputs": [
    {
     "name": "stdout",
     "output_type": "stream",
     "text": [
      "--2020-05-28 00:24:02--  https://dumps.wikimedia.org/enwiki/latest/enwiki-latest-redirect.sql.gz\n",
      "Resolving dumps.wikimedia.org (dumps.wikimedia.org)... 2620:0:861:1:208:80:154:7, 208.80.154.7\n",
      "Connecting to dumps.wikimedia.org (dumps.wikimedia.org)|2620:0:861:1:208:80:154:7|:443... connected.\n",
      "HTTP request sent, awaiting response... 200 OK\n",
      "Length: 136805404 (130M) [application/octet-stream]\n",
      "Saving to: ‘enwiki-latest-redirect.sql.gz’\n",
      "\n",
      "enwiki-latest-redir 100%[===================>] 130.47M   924KB/s    in 3m 24s  \n",
      "\n",
      "2020-05-28 00:27:27 (655 KB/s) - ‘enwiki-latest-redirect.sql.gz’ saved [136805404/136805404]\n",
      "\n"
     ]
    }
   ],
   "source": [
    "!wget https://dumps.wikimedia.org/enwiki/latest/enwiki-latest-redirect.sql.gz"
   ]
  },
  {
   "cell_type": "code",
   "execution_count": 47,
   "metadata": {},
   "outputs": [],
   "source": [
    "!gzip -d enwiki-latest-redirect.sql.gz"
   ]
  },
  {
   "cell_type": "code",
   "execution_count": 49,
   "metadata": {},
   "outputs": [
    {
     "name": "stdout",
     "output_type": "stream",
     "text": [
      "-- MySQL dump 10.16  Distrib 10.1.44-MariaDB, for debian-linux-gnu (x86_64)\n",
      "--\n",
      "-- Host: 10.64.48.13    Database: enwiki\n",
      "-- ------------------------------------------------------\n",
      "-- Server version       10.1.43-MariaDB\n",
      "\n",
      "/*!40101 SET @OLD_CHARACTER_SET_CLIENT=@@CHARACTER_SET_CLIENT */;\n",
      "/*!40101 SET @OLD_CHARACTER_SET_RESULTS=@@CHARACTER_SET_RESULTS */;\n",
      "/*!40101 SET @OLD_COLLATION_CONNECTION=@@COLLATION_CONNECTION */;\n",
      "/*!40101 SET NAMES utf8mb4 */;\n",
      "/*!40103 SET @OLD_TIME_ZONE=@@TIME_ZONE */;\n",
      "/*!40103 SET TIME_ZONE='+00:00' */;\n",
      "/*!40014 SET @OLD_UNIQUE_CHECKS=@@UNIQUE_CHECKS, UNIQUE_CHECKS=0 */;\n",
      "/*!40014 SET @OLD_FOREIGN_KEY_CHECKS=@@FOREIGN_KEY_CHECKS, FOREIGN_KEY_CHECKS=0 */;\n",
      "/*!40101 SET @OLD_SQL_MODE=@@SQL_MODE, SQL_MODE='NO_AUTO_VALUE_ON_ZERO' */;\n",
      "/*!40111 SET @OLD_SQL_NOTES=@@SQL_NOTES, SQL_NOTES=0 */;\n",
      "\n",
      "--\n",
      "-- Table structure for table `redirect`\n",
      "--\n",
      "\n",
      "DROP TABLE IF EXISTS `redirect`;\n",
      "\u001b[K:\u001b[Kiki-latest-redirect.sql\u001b[m\u001b[K\u0007"
     ]
    }
   ],
   "source": [
    "!less enwiki-latest-redirect.sql"
   ]
  },
  {
   "cell_type": "code",
   "execution_count": 32,
   "metadata": {},
   "outputs": [
    {
     "name": "stdout",
     "output_type": "stream",
     "text": [
      "Q44554\n"
     ]
    }
   ],
   "source": [
    "from wikimapper import WikiMapper\n",
    "\n",
    "mapper = WikiMapper(\"wikimapper/data/index_enwiki-20190420.db\")\n",
    "titles = mapper.title_to_id(\"Law_enforcement\")\n",
    "print(titles) "
   ]
  },
  {
   "cell_type": "code",
   "execution_count": 57,
   "metadata": {},
   "outputs": [
    {
     "name": "stdout",
     "output_type": "stream",
     "text": [
      "--2020-05-28 09:23:27--  https://raw.githubusercontent.com/jamesmishra/mysqldump-to-csv/master/mysqldump_to_csv.py\n",
      "Resolving raw.githubusercontent.com (raw.githubusercontent.com)... 199.232.16.133\n",
      "Connecting to raw.githubusercontent.com (raw.githubusercontent.com)|199.232.16.133|:443... connected.\n",
      "HTTP request sent, awaiting response... 200 OK\n",
      "Length: 3626 (3.5K) [text/plain]\n",
      "Saving to: ‘mysqldump_to_csv.py’\n",
      "\n",
      "mysqldump_to_csv.py 100%[===================>]   3.54K  --.-KB/s    in 0s      \n",
      "\n",
      "2020-05-28 09:23:27 (85.3 MB/s) - ‘mysqldump_to_csv.py’ saved [3626/3626]\n",
      "\n"
     ]
    }
   ],
   "source": [
    "!wget https://raw.githubusercontent.com/jamesmishra/mysqldump-to-csv/master/mysqldump_to_csv.py"
   ]
  },
  {
   "cell_type": "code",
   "execution_count": 59,
   "metadata": {},
   "outputs": [
    {
     "name": "stdout",
     "output_type": "stream",
     "text": [
      " blank_classes.txt\t\t      info_dbpedia.txt\r\n",
      " candidate_classes.txt\t\t     'instance-types_lang=en_specific.ttl'\r\n",
      " Combine-Dbpedia-Wikipedia.ipynb     'instance-types_lang=en_transitive.ttl'\r\n",
      " completed.txt\t\t\t      mysqldump_to_csv.py\r\n",
      " enwiki-latest-all-titles-in-ns0      tml.txt\r\n",
      " enwiki-latest-redirect.sql\t      wikidata_id.py\r\n",
      " error.txt\t\t\t      wikimapper\r\n",
      " extract_dbpedia_candidate_class.py   wikioutput_1k.txt\r\n",
      " get_dbpedia_response.py\t      wikioutput.txt\r\n"
     ]
    }
   ],
   "source": [
    "!ls"
   ]
  },
  {
   "cell_type": "code",
   "execution_count": 4,
   "metadata": {},
   "outputs": [
    {
     "name": "stdout",
     "output_type": "stream",
     "text": [
      "--2020-05-28 09:31:17--  https://dumps.wikimedia.org/enwiki/latest/enwiki-latest-redirect.sql.gz\n",
      "Resolving dumps.wikimedia.org (dumps.wikimedia.org)... 2620:0:861:1:208:80:154:7, 208.80.154.7\n",
      "Connecting to dumps.wikimedia.org (dumps.wikimedia.org)|2620:0:861:1:208:80:154:7|:443... connected.\n",
      "HTTP request sent, awaiting response... 200 OK\n",
      "Length: 136805404 (130M) [application/octet-stream]\n",
      "Saving to: ‘enwiki-latest-redirect.sql.gz’\n",
      "\n",
      "enwiki-latest-redir 100%[===================>] 130.47M  4.85MB/s    in 27s     \n",
      "\n",
      "2020-05-28 09:31:45 (4.79 MB/s) - ‘enwiki-latest-redirect.sql.gz’ saved [136805404/136805404]\n",
      "\n"
     ]
    }
   ],
   "source": [
    "!wget https://dumps.wikimedia.org/enwiki/latest/enwiki-latest-redirect.sql.gz"
   ]
  },
  {
   "cell_type": "code",
   "execution_count": 2,
   "metadata": {},
   "outputs": [
    {
     "name": "stdout",
     "output_type": "stream",
     "text": [
      "gzip: enwiki-latest-redirect.sql.gz: No such file or directory\r\n"
     ]
    }
   ],
   "source": [
    "!zcat enwiki-latest-redirect.sql.gz | python mysqldump_to_csv.py > enwiki-latest-redirect.csv\n"
   ]
  },
  {
   "cell_type": "code",
   "execution_count": 23,
   "metadata": {},
   "outputs": [
    {
     "name": "stdout",
     "output_type": "stream",
     "text": [
      "10,0,Computer_accessibility,\"\u0000\",\r",
      "\r\n",
      "13,0,History_of_Afghanistan,\"\u0000\",\r",
      "\r\n",
      "14,0,Geography_of_Afghanistan,\"\u0000\",\r",
      "\r\n",
      "15,0,Demographics_of_Afghanistan,\"\u0000\",\r",
      "\r\n",
      "18,0,Communications_in_Afghanistan,\"\u0000\",\r",
      "\r\n",
      "19,0,Transport_in_Afghanistan,\"\u0000\",\r",
      "\r\n",
      "20,0,Afghan_Armed_Forces,\"\u0000\",\r",
      "\r\n",
      "21,0,Foreign_relations_of_Afghanistan,\"\u0000\",\r",
      "\r\n",
      "23,0,Assistive_technology,\"\u0000\",\r",
      "\r\n",
      "24,0,Amoeba,\"\u0000\",\r",
      "\r\n"
     ]
    }
   ],
   "source": [
    "!head enwiki-latest-redirect.csv\n"
   ]
  },
  {
   "cell_type": "code",
   "execution_count": 1,
   "metadata": {},
   "outputs": [
    {
     "ename": "FileNotFoundError",
     "evalue": "[Errno 2] No such file or directory: 'enwiki-latest-redirect.csv'",
     "output_type": "error",
     "traceback": [
      "\u001b[0;31m---------------------------------------------------------------------------\u001b[0m",
      "\u001b[0;31mFileNotFoundError\u001b[0m                         Traceback (most recent call last)",
      "\u001b[0;32m<ipython-input-1-071b7ae8fd48>\u001b[0m in \u001b[0;36m<module>\u001b[0;34m\u001b[0m\n\u001b[0;32m----> 1\u001b[0;31m \u001b[0;32mwith\u001b[0m \u001b[0mopen\u001b[0m\u001b[0;34m(\u001b[0m\u001b[0;34m\"enwiki-latest-redirect.csv\"\u001b[0m\u001b[0;34m)\u001b[0m \u001b[0;32mas\u001b[0m \u001b[0minputfile\u001b[0m\u001b[0;34m:\u001b[0m\u001b[0;34m\u001b[0m\u001b[0;34m\u001b[0m\u001b[0m\n\u001b[0m\u001b[1;32m      2\u001b[0m     \u001b[0;32mfor\u001b[0m \u001b[0mline\u001b[0m \u001b[0;32min\u001b[0m \u001b[0minputfile\u001b[0m\u001b[0;34m:\u001b[0m\u001b[0;34m\u001b[0m\u001b[0;34m\u001b[0m\u001b[0m\n\u001b[1;32m      3\u001b[0m         \u001b[0mtitle\u001b[0m \u001b[0;34m=\u001b[0m \u001b[0mline\u001b[0m\u001b[0;34m.\u001b[0m\u001b[0msplit\u001b[0m\u001b[0;34m(\u001b[0m\u001b[0;34m\",\"\u001b[0m\u001b[0;34m)\u001b[0m\u001b[0;34m[\u001b[0m\u001b[0;36m2\u001b[0m\u001b[0;34m]\u001b[0m\u001b[0;34m\u001b[0m\u001b[0;34m\u001b[0m\u001b[0m\n\u001b[1;32m      4\u001b[0m         \u001b[0;32mif\u001b[0m \u001b[0;34m\"Law_enforcement\"\u001b[0m \u001b[0;34m==\u001b[0m \u001b[0mtitle\u001b[0m \u001b[0;34m:\u001b[0m\u001b[0;34m\u001b[0m\u001b[0;34m\u001b[0m\u001b[0m\n\u001b[1;32m      5\u001b[0m             \u001b[0mprint\u001b[0m\u001b[0;34m(\u001b[0m\u001b[0mline\u001b[0m\u001b[0;34m)\u001b[0m\u001b[0;34m\u001b[0m\u001b[0;34m\u001b[0m\u001b[0m\n",
      "\u001b[0;31mFileNotFoundError\u001b[0m: [Errno 2] No such file or directory: 'enwiki-latest-redirect.csv'"
     ]
    }
   ],
   "source": [
    "with open(\"enwiki-latest-redirect.csv\") as inputfile:\n",
    "    for line in inputfile:\n",
    "        title = line.split(\",\")[2]\n",
    "        if \"Law_enforcement\" == title :\n",
    "            print(line)\n",
    "        "
   ]
  },
  {
   "cell_type": "code",
   "execution_count": null,
   "metadata": {},
   "outputs": [],
   "source": []
  }
 ],
 "metadata": {
  "kernelspec": {
   "display_name": "Python 3",
   "language": "python",
   "name": "python3"
  },
  "language_info": {
   "codemirror_mode": {
    "name": "ipython",
    "version": 3
   },
   "file_extension": ".py",
   "mimetype": "text/x-python",
   "name": "python",
   "nbconvert_exporter": "python",
   "pygments_lexer": "ipython3",
   "version": "3.7.6"
  }
 },
 "nbformat": 4,
 "nbformat_minor": 4
}

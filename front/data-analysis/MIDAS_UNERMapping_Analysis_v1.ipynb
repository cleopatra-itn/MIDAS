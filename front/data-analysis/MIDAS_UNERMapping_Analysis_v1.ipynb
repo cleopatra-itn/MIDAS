{
 "cells": [
  {
   "cell_type": "code",
   "execution_count": 6,
   "metadata": {},
   "outputs": [],
   "source": [
    "import pandas as pd\n",
    "import seaborn as sns\n",
    "import matplotlib.pyplot as plt\n",
    "import numpy as np\n",
    "import json"
   ]
  },
  {
   "cell_type": "code",
   "execution_count": 16,
   "metadata": {},
   "outputs": [
    {
     "data": {
      "text/html": [
       "<div>\n",
       "<style scoped>\n",
       "    .dataframe tbody tr th:only-of-type {\n",
       "        vertical-align: middle;\n",
       "    }\n",
       "\n",
       "    .dataframe tbody tr th {\n",
       "        vertical-align: top;\n",
       "    }\n",
       "\n",
       "    .dataframe thead th {\n",
       "        text-align: right;\n",
       "    }\n",
       "</style>\n",
       "<table border=\"1\" class=\"dataframe\">\n",
       "  <thead>\n",
       "    <tr style=\"text-align: right;\">\n",
       "      <th></th>\n",
       "      <th>dbpedia_class</th>\n",
       "    </tr>\n",
       "    <tr>\n",
       "      <th>item</th>\n",
       "      <th></th>\n",
       "    </tr>\n",
       "  </thead>\n",
       "  <tbody>\n",
       "    <tr>\n",
       "      <th>Lorenzo Thomas</th>\n",
       "      <td>Person</td>\n",
       "    </tr>\n",
       "    <tr>\n",
       "      <th>Lorenzo Thomas</th>\n",
       "      <td>Agent</td>\n",
       "    </tr>\n",
       "    <tr>\n",
       "      <th>Lorenzo Thomas</th>\n",
       "      <td>MilitaryPerson</td>\n",
       "    </tr>\n",
       "    <tr>\n",
       "      <th>Artaxerxes II</th>\n",
       "      <td>NaN</td>\n",
       "    </tr>\n",
       "    <tr>\n",
       "      <th>Connecticut</th>\n",
       "      <td>Place</td>\n",
       "    </tr>\n",
       "    <tr>\n",
       "      <th>...</th>\n",
       "      <td>...</td>\n",
       "    </tr>\n",
       "    <tr>\n",
       "      <th>Marquise Hill</th>\n",
       "      <td>AmericanFootballPlayer</td>\n",
       "    </tr>\n",
       "    <tr>\n",
       "      <th>Marquise Hill</th>\n",
       "      <td>Athlete</td>\n",
       "    </tr>\n",
       "    <tr>\n",
       "      <th>Marquise Hill</th>\n",
       "      <td>GridironFootballPlayer</td>\n",
       "    </tr>\n",
       "    <tr>\n",
       "      <th>Corten</th>\n",
       "      <td>NaN</td>\n",
       "    </tr>\n",
       "    <tr>\n",
       "      <th>Jervis shopping centre</th>\n",
       "      <td>NaN</td>\n",
       "    </tr>\n",
       "  </tbody>\n",
       "</table>\n",
       "<p>3144 rows × 1 columns</p>\n",
       "</div>"
      ],
      "text/plain": [
       "                                 dbpedia_class\n",
       "item                                          \n",
       "Lorenzo Thomas                          Person\n",
       "Lorenzo Thomas                           Agent\n",
       "Lorenzo Thomas                  MilitaryPerson\n",
       "Artaxerxes II                              NaN\n",
       "Connecticut                              Place\n",
       "...                                        ...\n",
       "Marquise Hill           AmericanFootballPlayer\n",
       "Marquise Hill                          Athlete\n",
       "Marquise Hill           GridironFootballPlayer\n",
       "Corten                                     NaN\n",
       "Jervis shopping centre                     NaN\n",
       "\n",
       "[3144 rows x 1 columns]"
      ]
     },
     "execution_count": 16,
     "metadata": {},
     "output_type": "execute_result"
    }
   ],
   "source": [
    "candidate_classes_dbpedia_df = pd.read_csv('candidate_classes_dbpedia_df.csv')\n",
    "candidate_classes_dbpedia_df = candidate_classes_dbpedia_df.set_index('item')\n",
    "candidate_classes_dbpedia_df"
   ]
  },
  {
   "cell_type": "code",
   "execution_count": 9,
   "metadata": {},
   "outputs": [],
   "source": [
    "with open('wiki_class_priority_UNER_dict_list.json','r') as f:\n",
    "    UNER_classes = json.load(f)"
   ]
  },
  {
   "cell_type": "code",
   "execution_count": 66,
   "metadata": {},
   "outputs": [],
   "source": [
    "for entry in UNER_classes:\n",
    "    if entry['title'] == '':\n",
    "        continue\n",
    "    classes = candidate_classes_dbpedia_df.loc[entry['title']]['dbpedia_class']\n",
    "    if type(classes) == float and np.isnan(classes):\n",
    "        entry['dbpedia_classes'] = 'None'\n",
    "    elif type(classes) == str:\n",
    "        entry['dbpedia_classes'] = [classes]\n",
    "    else:\n",
    "        entry['dbpedia_classes'] = list(classes)                              "
   ]
  },
  {
   "cell_type": "code",
   "execution_count": 75,
   "metadata": {},
   "outputs": [],
   "source": [
    "candidate_classes_uner_dbpedia_df = pd.DataFrame(UNER_classes)\n",
    "candidate_classes_uner_dbpedia_df = candidate_classes_uner_dbpedia_df[candidate_classes_uner_dbpedia_df['dbpedia_classes'] != 'None']\n",
    "candidate_classes_uner_dbpedia_df.to_csv('candidate_classes_uner_dbpedia_df.csv', index=False)"
   ]
  }
 ],
 "metadata": {
  "kernelspec": {
   "display_name": "Python 3",
   "language": "python",
   "name": "python3"
  },
  "language_info": {
   "codemirror_mode": {
    "name": "ipython",
    "version": 3
   },
   "file_extension": ".py",
   "mimetype": "text/x-python",
   "name": "python",
   "nbconvert_exporter": "python",
   "pygments_lexer": "ipython3",
   "version": "3.7.6"
  }
 },
 "nbformat": 4,
 "nbformat_minor": 4
}
